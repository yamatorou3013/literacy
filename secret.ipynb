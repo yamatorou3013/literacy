{
  "nbformat": 4,
  "nbformat_minor": 0,
  "metadata": {
    "colab": {
      "provenance": [],
      "authorship_tag": "ABX9TyNNhvoj+hMLFwQU3e5PCNTi",
      "include_colab_link": true
    },
    "kernelspec": {
      "name": "python3",
      "display_name": "Python 3"
    },
    "language_info": {
      "name": "python"
    }
  },
  "cells": [
    {
      "cell_type": "markdown",
      "metadata": {
        "id": "view-in-github",
        "colab_type": "text"
      },
      "source": [
        "<a href=\"https://colab.research.google.com/github/yamatorou3013/literacy/blob/main/secret.ipynb\" target=\"_parent\"><img src=\"https://colab.research.google.com/assets/colab-badge.svg\" alt=\"Open In Colab\"/></a>"
      ]
    },
    {
      "cell_type": "code",
      "execution_count": 1,
      "metadata": {
        "colab": {
          "base_uri": "https://localhost:8080/"
        },
        "id": "mLikMC5pQqc_",
        "outputId": "7a4a23bc-c405-40ce-9928-44e669db5ed7"
      },
      "outputs": [
        {
          "output_type": "stream",
          "name": "stdout",
          "text": [
            "writing RSA key\n"
          ]
        }
      ],
      "source": [
        "!openssl genrsa -out yabuki-private.pem 1024\n",
        "!openssl rsa -in yabuki-private.pem -pubout -out yabuki-public.pem"
      ]
    },
    {
      "cell_type": "code",
      "source": [
        "!cat yabuki-public.pem"
      ],
      "metadata": {
        "colab": {
          "base_uri": "https://localhost:8080/"
        },
        "id": "aEljC6uZQ0GI",
        "outputId": "244baf64-660d-43f9-f3e9-ecca9779abce"
      },
      "execution_count": 2,
      "outputs": [
        {
          "output_type": "stream",
          "name": "stdout",
          "text": [
            "-----BEGIN PUBLIC KEY-----\n",
            "MIGfMA0GCSqGSIb3DQEBAQUAA4GNADCBiQKBgQC4PzqjO2hLm8zcUWPLF/cBxiA1\n",
            "XO2sZZ2LHElf7AGoJTA8SVf9chnD+lCWtf1jIcMFfxfX/oWui8RbFLiIgyU1YwJS\n",
            "jzVKjwP8xOKa2vLRYD3K8c4+E3trbH1erpeZlEAecqzmO9VtpI+yq6UTDHG4xEDg\n",
            "n+25r+uVuipDtIOhuQIDAQAB\n",
            "-----END PUBLIC KEY-----\n"
          ]
        }
      ]
    },
    {
      "cell_type": "code",
      "source": [
        "!echo \"25G3013\" > report\n",
        "\n",
        "!openssl pkeyutl -encrypt -pubin -inkey yabuki-public.pem -in report -out report-secret\n",
        "!cat report-secret"
      ],
      "metadata": {
        "colab": {
          "base_uri": "https://localhost:8080/"
        },
        "id": "rH0ogEd7Q6TT",
        "outputId": "986eccd5-965f-455a-c41b-6a5465472716"
      },
      "execution_count": 5,
      "outputs": [
        {
          "output_type": "stream",
          "name": "stdout",
          "text": [
            "+\u0006��Èa\u0005�\"�%��7�\u00100I���\u000f�B۩.3\b\u0018�\b.[�d\u0010cD\u001aK���C��ܦ\u0016+äV��J�L'b��c�XN\u0012z\u000b};x��\u0015��a\"}({*���㛃.����m�ͤ�\u000f�ѧo�ù]ǫjo5:t-OH�f"
          ]
        }
      ]
    }
  ]
}